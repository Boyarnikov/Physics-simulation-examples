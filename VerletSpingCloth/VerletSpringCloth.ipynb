{
  "cells": [
    {
      "cell_type": "markdown",
      "metadata": {
        "id": "z6VnzaYzv49y"
      },
      "source": [
        "# Симуляция ткани (шарики с жёсткими пружинами) с гравитацией в 3D\n",
        "\n",
        "Перед тем как начать хоть что-то симулировать, хотелось-бы получить базовые физические точки в пространстве. Этим и займёмся!\n"
      ]
    },
    {
      "cell_type": "code",
      "execution_count": null,
      "metadata": {
        "id": "7Y7y_K42v0JC"
      },
      "outputs": [],
      "source": [
        "import time\n",
        "import numpy as np\n",
        "import matplotlib.pyplot as plt\n",
        "import matplotlib.animation as animation\n",
        "\n",
        "from matplotlib import rc\n",
        "rc('animation', html='jshtml')\n",
        "\n",
        "import matplotlib\n",
        "matplotlib.rcParams['animation.embed_limit'] = 20000"
      ]
    },
    {
      "cell_type": "code",
      "source": [],
      "metadata": {
        "id": "-W6oQvGxA-XY"
      },
      "execution_count": null,
      "outputs": []
    },
    {
      "cell_type": "markdown",
      "metadata": {
        "id": "MRNycR2fwxOh"
      },
      "source": [
        "Для начала заведём глобальных констант. Это секретные инструменты которые пригодятся нам потом."
      ]
    },
    {
      "cell_type": "code",
      "execution_count": null,
      "metadata": {
        "id": "eNOrMndBwPOE"
      },
      "outputs": [],
      "source": [
        "GLOBAL_CONSTANT_FORCE = np.array([0, 0, -9.5], dtype=np.float64)  # Гравитация\n",
        "\n",
        "DT = 1 / 60                 # шаг симуляции в секундах\n",
        "K = 200                     # упругость пружины\n",
        "M = 0.2                     # масса точек\n",
        "D = 30                      # коэфицент демпинга (СМ. РЕАЛИЗАЦИЮ НИЖЕ)\n",
        "C = 60                      # альтернативное решение для демпинга"
      ]
    },
    {
      "cell_type": "code",
      "execution_count": null,
      "metadata": {
        "id": "UtcB6Y5ExEAm"
      },
      "outputs": [],
      "source": [
        "# Материальная точка. В ней пока только позиция и скорость, и констрейны коробки\n",
        "class MaterialPoint:\n",
        "    position = np.array([0, 0, 0], dtype=np.float64)\n",
        "    velocity = np.array([0, 0, 0], dtype=np.float64)\n",
        "    mass = 1.0\n",
        "\n",
        "    def __init__(self, position, mass=1.0, velocity=None):\n",
        "        if velocity is None:\n",
        "            velocity = np.array([0, 0, 0], dtype=np.float64)\n",
        "\n",
        "        self.position = position\n",
        "        self.mass = mass\n",
        "        self.velocity = velocity\n",
        "\n",
        "    def update(self, dt, external_forces = None):\n",
        "        \"\"\"\n",
        "        external_forces(float[3]) -> float[3] or None\n",
        "        Описывает внешние силы влияющие на систему\n",
        "        Например lambda pos: GLOBAL_CONSTANT_FORCE опишет чистую гравитацию\n",
        "        \"\"\"\n",
        "        pass"
      ]
    },
    {
      "cell_type": "code",
      "source": [
        "# Реализация Верлета. Классовое представление здесь осталось как легаси\n",
        "# из примера где я делал Эйлера, Полуейлера и Обратного Эйлера\n",
        "# Пример перекочевал в следующую домашку. Ждите с нетерпением)\n",
        "# Реализует нижнюю функцию + дампинг\n",
        "# new_position = 2*old_position - prev_position + acceleration * dt^2\n",
        "class MaterialPointVerlet(MaterialPoint):\n",
        "    old_position = np.array([0, 0, 0], dtype=np.float64)\n",
        "\n",
        "    def __init__(self, position, mass=1.0, velocity=None):\n",
        "        if velocity is None:\n",
        "            self.old_position = position.copy()\n",
        "        else:\n",
        "            self.old_position = position.copy() - velocity.copy() * DT\n",
        "        super().__init__(position, mass, velocity)\n",
        "\n",
        "    def update(self, dt, external_forces = None):\n",
        "        if external_forces:\n",
        "            acceleration = (external_forces(self.position, self.mass)) / self.mass\n",
        "        else:\n",
        "            acceleration = np.array([0, 0, 0], dtype=np.float64)\n",
        "\n",
        "        position = self.position.copy()\n",
        "        \"\"\"\n",
        "        Общая формула\n",
        "        x[k+1] = 2x[k] - x[k-1] + (- w^2 * x[k] - dw(x[k]-x[k-1]))Δt^2\n",
        "        (формула получена из неявного Ейлера с матрицой дэмпинга)\n",
        "        Помним что d = c/2sqrt(km), w = sqrt(k/w)\n",
        "        получаем\n",
        "        x[k+1] = 2x[k] - x[k-1] + (-k/m * x[k] - c/2m*(x[k]-x[k-1]))Δt^2\n",
        "\n",
        "        -k/m * x[k] высчитаем для каждой пружины (и для внешних сил)\n",
        "        отдельно и запишем в acceleration\n",
        "        2x[k] - x[k-1] + (-c/2m*(x[k]-x[k-1]))Δt^2 распишем как\n",
        "        x[k] + (x[k] - x[k-1])(1 - c/2mΔt^2)\n",
        "        Сюда уже подставим константу С заданную выше\n",
        "        \"\"\"\n",
        "        self.position += (1 - C / self.mass / 2 * DT * DT) *\\\n",
        "                  (self.position - self.old_position) + acceleration * DT * DT\n",
        "        self.old_position = position\n",
        "        super().update(dt)"
      ],
      "metadata": {
        "id": "loDvS-_vx3um"
      },
      "execution_count": null,
      "outputs": []
    },
    {
      "cell_type": "markdown",
      "metadata": {
        "id": "TxJCts7RzuUJ"
      },
      "source": [
        "Просто материальной точки нам совершенно недостаточно! Добавим \"связи\"\n",
        "\n",
        "*Note: использование ООП очень сильно увеличивает константу работы алгоритмов. Это могло быть серьёзной проблемой, если бы не ещё большая константа которую привносит ужастно неоптимальный рендер matplotlib. В идеальном мире вместо объектов мы бы всё хранили в том-же numpy и запускали бы вычисления на батчах, экономя время. А ещё лучше сделали бы реализацию на с++. Но это в идеальном мире.*"
      ]
    },
    {
      "cell_type": "code",
      "execution_count": null,
      "metadata": {
        "id": "b2mSNjAozKeM"
      },
      "outputs": [],
      "source": [
        "# Реализация Верлета с дампингом.\n",
        "class MaterialPointVerletWithSpring(MaterialPointVerlet):\n",
        "    old_position = np.array([0, 0, 0], dtype=np.float64)\n",
        "    fixed = False\n",
        "    connections = []\n",
        "    frame = 0\n",
        "\n",
        "    # В симуляциях нам будут полезны \"фиксированные\" в пространстве точки\n",
        "    def __init__(self, position, mass=1.0, velocity=None, fixed=False):\n",
        "        self.connections = []\n",
        "        self.fixed = fixed\n",
        "        super().__init__(position, mass, velocity)\n",
        "\n",
        "    def update(self, dt, external_forces = None):\n",
        "        if self.fixed:\n",
        "            return\n",
        "\n",
        "        if external_forces:\n",
        "            forces = lambda pos, mass: external_forces(pos, mass) + self.get_connection_forces()\n",
        "        else:\n",
        "            forces = lambda pos, mass: self.get_connection_forces()\n",
        "\n",
        "        # Мы закинем во внешние силы все силы которые влияют на нас из пружин\n",
        "        super().update(dt, forces)\n",
        "        # В этом примере силы мы вытащим через get_forces() и применим вместе с гравитацией\n",
        "        acceleration = (GLOBAL_CONSTANT_FORCE + self.get_connection_forces()) / self.mass\n",
        "\n",
        "\n",
        "    def connect(self, other, k=1):\n",
        "        distance = np.linalg.norm(self.position - other.position)\n",
        "        self.connections.append({\"other\": other, \"k\": k, \"distance\": distance})\n",
        "        other.connections.append({\"other\": self, \"k\": k, \"distance\": distance})\n",
        "\n",
        "\n",
        "    def get_connection_forces(self):\n",
        "        # Обещанный расчёт сумм F = -xk\n",
        "        forces = np.array([0, 0, 0], dtype=np.float64)\n",
        "        for c in self.connections:\n",
        "            other = c[\"other\"]\n",
        "            other_pos = other.position\n",
        "            if other.frame > self.frame:\n",
        "                other_pos = other.old_position\n",
        "\n",
        "            direction = other_pos - self.position\n",
        "            offset = direction * (1 - c[\"distance\"] / np.linalg.norm(direction)) / 2\n",
        "\n",
        "            forces += offset * c[\"k\"]\n",
        "\n",
        "        return forces"
      ]
    },
    {
      "cell_type": "markdown",
      "source": [
        "Заведём несколько вспомогательных функций для построения такней и отрисовки анимации"
      ],
      "metadata": {
        "id": "dzDQ5IG1HRB7"
      }
    },
    {
      "cell_type": "code",
      "source": [
        "def create_rect_cloth_w(point_count_w, point_count_h, MaterialPointClass):\n",
        "    \"\"\"\n",
        "    Вертикально висящая ткань, подвешанная с обоих сторон за point_count_w/3 вершин\n",
        "    \"\"\"\n",
        "    x_ = np.linspace(0.25, 0.75, point_count_w)\n",
        "    y_ = np.linspace(0.5, 0.5, 1)\n",
        "    z_ = np.linspace(1., 0.50, point_count_h)\n",
        "\n",
        "    x, y, z = np.meshgrid(x_, y_, z_, indexing='ij')\n",
        "\n",
        "    positions = np.array((x.flatten(), y.flatten(), z.flatten())).T\n",
        "    velocities = np.random.uniform(0, 0, size=(point_count_w * point_count_h, 3))\n",
        "\n",
        "    # Создадим точки\n",
        "    points = [MaterialPointClass(positions[i], velocity=velocities[i], mass=M) for i in\n",
        "              range(point_count_w * point_count_h)]\n",
        "\n",
        "    for i in range(point_count_w // 3):\n",
        "        points[i * point_count_h].fixed = True\n",
        "        points[(point_count_w - i - 1) * point_count_h].fixed = True\n",
        "\n",
        "\n",
        "    # Создадим пружины\n",
        "    for i in range(point_count_w):\n",
        "        for j in range(point_count_h):\n",
        "            if j < point_count_h - 1:\n",
        "                points[j + i * point_count_h].connect(points[j + i * point_count_h + 1], K)\n",
        "            if i < point_count_w - 1:\n",
        "                points[j + i * point_count_h].connect(points[j + i * point_count_h + point_count_h], K)\n",
        "            if j < point_count_h - 1 and i < point_count_w - 1:\n",
        "                points[j + i * point_count_h].connect(points[j + i * point_count_h + point_count_h + 1], K)\n",
        "            if j > 0 and i < point_count_w - 1:\n",
        "                points[j + i * point_count_h].connect(points[j + i * point_count_h + point_count_h - 1], K)\n",
        "\n",
        "    return positions, points"
      ],
      "metadata": {
        "id": "NcErs9HTG422"
      },
      "execution_count": null,
      "outputs": []
    },
    {
      "cell_type": "code",
      "source": [
        "def create_rect_cloth_h(point_count_w, point_count_h, MaterialPointClass):\n",
        "    \"\"\"\n",
        "    Горизонтально падающая ткань, подвешанная с обоих сторон за point_count_w/3 вершин\n",
        "    \"\"\"\n",
        "    x_ = np.linspace(0.25, 0.75, point_count_w)\n",
        "    y_ = np.linspace(1., 1., 1)\n",
        "    z_ = np.linspace(0.5, 0.0, point_count_h)\n",
        "\n",
        "    x, y, z = np.meshgrid(x_, y_, z_, indexing='ij')\n",
        "\n",
        "    z, y = y, z\n",
        "\n",
        "    positions = np.array((x.flatten(), y.flatten(), z.flatten())).T\n",
        "    velocities = np.random.uniform(0, 0, size=(point_count_w * point_count_h, 3))\n",
        "\n",
        "    # Создадим точки\n",
        "    points = [MaterialPointClass(positions[i], velocity=velocities[i], mass=M) for i in\n",
        "              range(point_count_w * point_count_h)]\n",
        "\n",
        "    for i in range(point_count_w // 3):\n",
        "        points[i * point_count_h].fixed = True\n",
        "        points[(point_count_w - i - 1) * point_count_h].fixed = True\n",
        "\n",
        "\n",
        "        # Создадим пружины\n",
        "    for i in range(point_count_w):\n",
        "        for j in range(point_count_h):\n",
        "            if j < point_count_h - 1:\n",
        "                points[j + i * point_count_h].connect(points[j + i * point_count_h + 1], K)\n",
        "            if i < point_count_w - 1:\n",
        "                points[j + i * point_count_h].connect(points[j + i * point_count_h + point_count_h], K)\n",
        "            if j < point_count_h - 1 and i < point_count_w - 1:\n",
        "                points[j + i * point_count_h].connect(points[j + i * point_count_h + point_count_h + 1], K)\n",
        "            if j > 0 and i < point_count_w - 1:\n",
        "                points[j + i * point_count_h].connect(points[j + i * point_count_h + point_count_h - 1], K)\n",
        "\n",
        "    return positions, points"
      ],
      "metadata": {
        "id": "rpQazZWxHPmf"
      },
      "execution_count": null,
      "outputs": []
    },
    {
      "cell_type": "markdown",
      "source": [
        "Разные глобальные силы, через подобные функции можем, например, создать ветер!"
      ],
      "metadata": {
        "id": "zF9fCCeGIT_W"
      }
    },
    {
      "cell_type": "code",
      "source": [
        "def get_just_gravity(time):\n",
        "    def global_forces(pos, mass):\n",
        "        return GLOBAL_CONSTANT_FORCE * mass\n",
        "    return global_forces"
      ],
      "metadata": {
        "id": "Jhs7pGnEIS9D"
      },
      "execution_count": null,
      "outputs": []
    },
    {
      "cell_type": "markdown",
      "source": [
        "Довольно проклятая функция анимации. Мог бы сделать её по-приличнее но не стал."
      ],
      "metadata": {
        "id": "mYUjHRRdI5br"
      }
    },
    {
      "cell_type": "code",
      "source": [
        "# Инициализация графика. Возвращает акторов в которых пишем точки\n",
        "animation_time = 0\n",
        "def init_plot(pos):\n",
        "    global connections, animation_time\n",
        "    connections = []\n",
        "    animation_time = 0\n",
        "\n",
        "    global fig, ax\n",
        "    fig = plt.figure()\n",
        "    ax = fig.add_subplot(projection=\"3d\")\n",
        "    ax.set(xlim3d=(0, 1), xlabel='X')\n",
        "    ax.set(ylim3d=(0, 1), ylabel='Y')\n",
        "    ax.set(zlim3d=(0, 1), zlabel='Z')\n",
        "\n",
        "    p3 = ax.plot(positions.T[0], positions.T[1], positions.T[2], 'o', c='green')\n",
        "    return p3[0]\n",
        "\n",
        "\n",
        "# Отрисовка связей\n",
        "def handle_connections(pts, pos, ax):\n",
        "    global connections\n",
        "\n",
        "    for c in connections:\n",
        "        c[0].remove()\n",
        "    connections = []\n",
        "    _connections = []\n",
        "\n",
        "    for i in range(len(pos)):\n",
        "        for p in pts[i]:\n",
        "          _connections.extend([(p.position, i[\"other\"].position) for i in p.connections])\n",
        "\n",
        "    for c in _connections:\n",
        "        connections.append(ax.plot([c[0][0], c[1][0]], [c[0][1], c[1][1]], [c[0][2], c[1][2]], c='red'))\n",
        "\n",
        "rotation = 0\n",
        "rotation_speed = 0.05\n",
        "def update(frame, pts, pos, plot, ax, get_forces_from_time) -> None:\n",
        "    global animation_time, rotation\n",
        "    animation_time += DT\n",
        "\n",
        "    # Вращаем камеру чтоб было красиво\n",
        "    rotation += rotation_speed\n",
        "    ax.azim = rotation\n",
        "\n",
        "    # Собственно итерация физики точек\n",
        "    for j in range(SKIPS):\n",
        "        for i in range(len(pos)):\n",
        "            for p in pts[i]:\n",
        "                p.update(DT, get_forces_from_time(animation_time))\n",
        "                p.frame = frame\n",
        "\n",
        "    for i in range(len(pos)):\n",
        "        plot[i].set_data(pos[i].T[:2])\n",
        "        plot[i].set_3d_properties(pos[i].T[2], 'z')\n",
        "\n",
        "    # Отрисовка соединений. Реализация очень убогая\n",
        "    # SHOW_CONNECTIONS = False ускоряет рендер в несколько раз\n",
        "    if SHOW_CONNECTIONS:\n",
        "        handle_connections(pts, pos, ax)\n",
        "\n",
        "    # Проецентный индикатор отрисовки\n",
        "    if int(frame * 10 / FRAMES) < int((frame + 1) * 10 / FRAMES):\n",
        "        print(f\"{round(frame * 10 / FRAMES) * 10}% done\")\n",
        "    return"
      ],
      "metadata": {
        "id": "-MWd3UBiI2Eu"
      },
      "execution_count": null,
      "outputs": []
    },
    {
      "cell_type": "markdown",
      "source": [
        "Сложно в это поверить, но мы готовы по-рендерить анимацию! Запустим простой тест на падающей ткани.\n",
        "\n",
        "*Note: некоторые анимации тратят очень много времени! Если хочется посмотреть на результаты можно либо скипнуть рендеринг доли фреймов через SKIPS и поставить SHOW_CONNECTIONS = False, значительно ускорив рендеринг.*\n",
        "\n",
        "*Так же в конце каждого блока анимации вставил эмбед с i.imgur.com, правда не уверен как долго они там пролежат*\n",
        "\n",
        "*Альтернативно - в конце ноутбука есть ссылки на все срендеренные гифы на диске*"
      ],
      "metadata": {
        "id": "2jWSf69FLuaI"
      }
    },
    {
      "cell_type": "code",
      "execution_count": null,
      "metadata": {
        "id": "e31YtJfK5ZQM"
      },
      "outputs": [],
      "source": [
        "SHOW_CONNECTIONS = True   # Флаг отрисовки пружин\n",
        "SKIPS = 10                 # Ускоряем рендеринг собирая только 1 из SKIPS кадров\n",
        "FRAMES = 100             # Количество итоговых фреймов\n",
        "rotation = 45             # Стартовая позиция камеры\n",
        "rotation_speed = 0.05     # Финальная позиция"
      ]
    },
    {
      "cell_type": "code",
      "execution_count": null,
      "metadata": {
        "id": "8KTvssbs24R1"
      },
      "outputs": [],
      "source": [
        "positions, points = create_rect_cloth_h(8, 8, MaterialPointVerletWithSpring)\n",
        "points_graph = init_plot(positions)\n",
        "ani = animation.FuncAnimation(\n",
        "    fig, update, FRAMES, fargs=([points],\n",
        "                                [positions],\n",
        "                                [points_graph],\n",
        "                                ax, get_just_gravity),\n",
        "                                interval=int(DT * SKIPS * 1000),\n",
        "                                blit=False)\n",
        "\n",
        "\"\"\"Сохраним анимацию\"\"\"\n",
        "\n",
        "writer = animation.PillowWriter(fps = 30, bitrate=1800)\n",
        "ani.save(f'Falling_clothes.gif', writer=writer)"
      ]
    },
    {
      "cell_type": "markdown",
      "source": [
        "![](https://i.imgur.com/o9ZLiPd.gif)"
      ],
      "metadata": {
        "id": "Cqzgv6W7qkMT"
      }
    },
    {
      "cell_type": "markdown",
      "source": [
        "Чудестно! Пользуясь случаем давай-те попробуем поиграть с симуляцией..."
      ],
      "metadata": {
        "id": "fdI9nR15M87M"
      }
    },
    {
      "cell_type": "code",
      "source": [
        "!pip install perlin-noise"
      ],
      "metadata": {
        "id": "3t8ysDBISMDk"
      },
      "execution_count": null,
      "outputs": []
    },
    {
      "cell_type": "code",
      "source": [
        "from perlin_noise import PerlinNoise\n",
        "noise = PerlinNoise()"
      ],
      "metadata": {
        "id": "rMDVDxdXSMXR"
      },
      "execution_count": null,
      "outputs": []
    },
    {
      "cell_type": "markdown",
      "source": [
        "Сейчас попробуем просимулировать ветер дующий вдоль Y.\n",
        "\n",
        "Для рандомности будем брать константу + perlinNoise по координатам х, у и времени симуляции, чтобы ветер был неравномерный но неприрывный!\n",
        "\n",
        "(это я играюсь если что, на баллы за это задание не претендую)"
      ],
      "metadata": {
        "id": "NNrXVwXxaFYK"
      }
    },
    {
      "cell_type": "code",
      "source": [
        "def get_gravity_and_wind(time):\n",
        "    def global_forces(pos, mass):\n",
        "        wind_power = noise([time, pos[0], pos[1]]) + 0.4\n",
        "        force = np.array([0, wind_power, 0], dtype=np.float64)\n",
        "        return force + GLOBAL_CONSTANT_FORCE * mass\n",
        "    return global_forces"
      ],
      "metadata": {
        "id": "t8CHIs6SRqe_"
      },
      "execution_count": null,
      "outputs": []
    },
    {
      "cell_type": "code",
      "execution_count": null,
      "metadata": {
        "id": "Ap6ZaWY_So6W"
      },
      "outputs": [],
      "source": [
        "SHOW_CONNECTIONS = True  # Флаг отрисовки пружин\n",
        "SKIPS = 1                # Ускоряем рендеринг собирая только 1 из SKIPS кадров\n",
        "FRAMES = 1000            # Количество итоговых фреймов\n",
        "rotation_speed = 0.1     # Скорость вращения камеры\n",
        "rotation = 20            # Стартавая позиция камеры"
      ]
    },
    {
      "cell_type": "code",
      "source": [
        "positions, points = create_rect_cloth_w(8, 8, MaterialPointVerletWithSpring)\n",
        "points_graph = init_plot(positions)\n",
        "ani = animation.FuncAnimation(\n",
        "    fig, update, FRAMES, fargs=([points],\n",
        "                                [positions],\n",
        "                                [points_graph],\n",
        "                                ax, get_gravity_and_wind),\n",
        "                                interval=int(DT * SKIPS * 1000),\n",
        "                                blit=False)\n",
        "\n",
        "\"\"\"Сохраним анимацию\"\"\"\n",
        "\n",
        "writer = animation.PillowWriter(fps=30, bitrate=1800)\n",
        "ani.save(f'Clothes_with_wind.gif', writer=writer)"
      ],
      "metadata": {
        "id": "nVQbEMW1SfRy"
      },
      "execution_count": null,
      "outputs": []
    },
    {
      "cell_type": "markdown",
      "source": [
        "![](https://i.imgur.com/TYrEIf9.gif)"
      ],
      "metadata": {
        "id": "5SMVaQmfqvJp"
      }
    },
    {
      "cell_type": "markdown",
      "source": [
        "так, а что там с-\n",
        "# Симуляция ткани связанной в цилиндр в 3д\n",
        "так вот же она!"
      ],
      "metadata": {
        "id": "WPzG53oPfNco"
      }
    },
    {
      "cell_type": "code",
      "source": [
        "def create_cil_cloth(point_count_w, point_count_h, MaterialPointClass):\n",
        "    \"\"\"\n",
        "    Вертикально подвешанный за все верхние точки целиндр\n",
        "    \"\"\"\n",
        "    x_ = np.linspace(0., ((point_count_w - 1) / point_count_w) * 2 * np.pi, point_count_w)\n",
        "    y_ = np.linspace(1, 1, 1)\n",
        "    z_ = np.linspace(1., 0.50, point_count_h)\n",
        "\n",
        "    x__, y__, z = np.meshgrid(x_, y_, z_, indexing='ij')\n",
        "\n",
        "    x = np.sin(x__) / 4 + 0.5\n",
        "    y = np.cos(x__) / 4 + 0.5\n",
        "\n",
        "    positions = np.array((x.flatten(), y.flatten(), z.flatten())).T\n",
        "    velocities = np.random.uniform(0, 0, size=(point_count_w * point_count_h, 3))\n",
        "\n",
        "    # Создадим точки\n",
        "    points = [MaterialPointClass(positions[i], velocity=velocities[i], mass=M) for i in\n",
        "              range(point_count_w * point_count_h)]\n",
        "\n",
        "    for i in range(point_count_w):\n",
        "        points[point_count_h * i].fixed = True\n",
        "\n",
        "    # Создадим пружины\n",
        "    for i in range(point_count_w):\n",
        "        for j in range(point_count_h):\n",
        "            if j < point_count_h - 1:\n",
        "                points[j + i * point_count_h].connect(points[j + i * point_count_h + 1], K)\n",
        "            if i < point_count_w - 1:\n",
        "                points[j + i * point_count_h].connect(points[j + i * point_count_h + point_count_h], K)\n",
        "            else:\n",
        "                points[j + i * point_count_h].connect(points[j], K)\n",
        "            if j < point_count_h - 1 and i < point_count_w - 1:\n",
        "                points[j + i * point_count_h].connect(points[j + i * point_count_h + point_count_h + 1], K)\n",
        "            elif j < point_count_h - 1:\n",
        "                points[j + i * point_count_h].connect(points[j + 1], K)\n",
        "            if j > 0 and i < point_count_w - 1:\n",
        "                points[j + i * point_count_h].connect(points[j + i * point_count_h + point_count_h - 1], K)\n",
        "            elif j > 0:\n",
        "                points[j + i * point_count_h].connect(points[j - 1], K)\n",
        "\n",
        "\n",
        "    return positions, points"
      ],
      "metadata": {
        "id": "wAC8vL1bH9D5"
      },
      "execution_count": null,
      "outputs": []
    },
    {
      "cell_type": "code",
      "execution_count": null,
      "metadata": {
        "id": "bkGKqQH3fXtG"
      },
      "outputs": [],
      "source": [
        "SHOW_CONNECTIONS = True  # Флаг отрисовки пружин\n",
        "SKIPS = 1                # Ускоряем рендеринг собирая только 1 из SKIPS кадров\n",
        "FRAMES = 100             # Количество итоговых фреймов\n",
        "rotation_speed = 0.5     # Скорость вращения камеры\n",
        "rotation = 0             # Стартавая позиция камеры"
      ]
    },
    {
      "cell_type": "code",
      "source": [
        "positions, points = create_cil_cloth(15, 8, MaterialPointVerletWithSpring)\n",
        "points_graph = init_plot(positions)\n",
        "ani = animation.FuncAnimation(\n",
        "    fig, update, FRAMES, fargs=([points],\n",
        "                                [positions],\n",
        "                                [points_graph],\n",
        "                                ax, get_just_gravity),\n",
        "                                interval=int(DT * SKIPS * 1000),\n",
        "                                blit=False)\n",
        "\n",
        "\"\"\"Сохраним анимацию\"\"\"\n",
        "\n",
        "writer = animation.PillowWriter(fps=30, bitrate=1800)\n",
        "ani.save(f'Clothes_in_cilinder.gif', writer=writer)"
      ],
      "metadata": {
        "id": "EucHDH-lfXtH"
      },
      "execution_count": null,
      "outputs": []
    },
    {
      "cell_type": "markdown",
      "source": [
        "![](https://i.imgur.com/yqQHLsv.gif)"
      ],
      "metadata": {
        "id": "hTkfHJU2q3yR"
      }
    },
    {
      "cell_type": "markdown",
      "source": [
        "Пока она просто висит - не особо интересно наблюдать. Давайте накиним на её вершины стартовую скорость!"
      ],
      "metadata": {
        "id": "MxS3HCdAgCCY"
      }
    },
    {
      "cell_type": "code",
      "source": [
        "def create_cil_cloth_with_a_push(point_count_w, point_count_h, MaterialPointClass):\n",
        "    \"\"\"\n",
        "    Вертикально подвешанный за все верхние точки целиндр\n",
        "    \"\"\"\n",
        "    x_ = np.linspace(0., ((point_count_w - 1) / point_count_w) * 2 * np.pi, point_count_w)\n",
        "    y_ = np.linspace(1, 1, 1)\n",
        "    z_ = np.linspace(1., 0.50, point_count_h)\n",
        "\n",
        "    x__, y__, z = np.meshgrid(x_, y_, z_, indexing='ij')\n",
        "\n",
        "    x = np.sin(x__) / 4 + 0.5\n",
        "    y = np.cos(x__) / 4 + 0.5\n",
        "\n",
        "    positions = np.array((x.flatten(), y.flatten(), z.flatten())).T\n",
        "\n",
        "    x_ = np.linspace(0., ((point_count_w - 1) / point_count_w) * 2 * np.pi, point_count_w)\n",
        "    y_ = np.linspace(1, 1, 1)\n",
        "    z_ = np.linspace(1., 0.50, point_count_h)\n",
        "\n",
        "    x__, y__, z = np.meshgrid(x_, y_, z_, indexing='ij')\n",
        "\n",
        "    \"\"\"\n",
        "    Добавим вектор скорости внутрь поверхности в оси XY\n",
        "    \"\"\"\n",
        "    x = np.sin(x__)\n",
        "    y = np.cos(x__)\n",
        "\n",
        "    velocities = np.array((x.flatten(), y.flatten(), z.flatten() * 0)).T\n",
        "\n",
        "    # Создадим точки\n",
        "    points = [MaterialPointClass(positions[i], velocity=velocities[i], mass=M) for i in\n",
        "              range(point_count_w * point_count_h)]\n",
        "\n",
        "    for i in range(point_count_w):\n",
        "        points[point_count_h * i].fixed = True\n",
        "\n",
        "    # Создадим пружины\n",
        "    for i in range(point_count_w):\n",
        "        for j in range(point_count_h):\n",
        "            if j < point_count_h - 1:\n",
        "                points[j + i * point_count_h].connect(points[j + i * point_count_h + 1], K)\n",
        "            if i < point_count_w - 1:\n",
        "                points[j + i * point_count_h].connect(points[j + i * point_count_h + point_count_h], K)\n",
        "            else:\n",
        "                points[j + i * point_count_h].connect(points[j], K)\n",
        "            if j < point_count_h - 1 and i < point_count_w - 1:\n",
        "                points[j + i * point_count_h].connect(points[j + i * point_count_h + point_count_h + 1], K)\n",
        "            elif j < point_count_h - 1:\n",
        "                points[j + i * point_count_h].connect(points[j + 1], K)\n",
        "            if j > 0 and i < point_count_w - 1:\n",
        "                points[j + i * point_count_h].connect(points[j + i * point_count_h + point_count_h - 1], K)\n",
        "            elif j > 0:\n",
        "                points[j + i * point_count_h].connect(points[j - 1], K)\n",
        "\n",
        "\n",
        "    return positions, points"
      ],
      "metadata": {
        "id": "no_A72ZKgxmF"
      },
      "execution_count": null,
      "outputs": []
    },
    {
      "cell_type": "code",
      "execution_count": null,
      "metadata": {
        "id": "-KvU63d5gP1G"
      },
      "outputs": [],
      "source": [
        "SHOW_CONNECTIONS = True  # Флаг отрисовки пружин\n",
        "SKIPS = 1                # Ускоряем рендеринг собирая только 1 из SKIPS кадров\n",
        "FRAMES = 500             # Количество итоговых фреймов\n",
        "rotation_speed = 0.1     # Скорость вращения камеры\n",
        "rotation = 0             # Стартавая позиция камеры"
      ]
    },
    {
      "cell_type": "code",
      "source": [
        "positions, points = create_cil_cloth_with_a_push(15, 8, MaterialPointVerletWithSpring)\n",
        "\n",
        "points_graph = init_plot(positions)\n",
        "ani = animation.FuncAnimation(\n",
        "    fig, update, FRAMES, fargs=([points],\n",
        "                                [positions],\n",
        "                                [points_graph],\n",
        "                                ax, get_just_gravity),\n",
        "                                interval=int(DT * SKIPS * 1000),\n",
        "                                blit=False)\n",
        "\n",
        "\"\"\"Сохраним анимацию\"\"\"\n",
        "\n",
        "writer = animation.PillowWriter(fps=30, bitrate=1800)\n",
        "ani.save(f'Clothes_in_cilinder_with_a_push.gif', writer=writer)"
      ],
      "metadata": {
        "id": "iUKzQpRDgP1H"
      },
      "execution_count": null,
      "outputs": []
    },
    {
      "cell_type": "markdown",
      "source": [
        "![](https://i.imgur.com/MiDp2TD.gif)"
      ],
      "metadata": {
        "id": "M21BKSyhq9QU"
      }
    },
    {
      "cell_type": "markdown",
      "source": [
        "Деформируется и возвращается обратно! Как и ожидалось собственно.\n",
        "\n",
        "Последнее - цилиндр с ветром"
      ],
      "metadata": {
        "id": "ED_OxYJ3E0Kb"
      }
    },
    {
      "cell_type": "code",
      "execution_count": null,
      "metadata": {
        "id": "2i8bZsjsFL2M"
      },
      "outputs": [],
      "source": [
        "SHOW_CONNECTIONS = True  # Флаг отрисовки пружин\n",
        "SKIPS = 1                # Ускоряем рендеринг собирая только 1 из SKIPS кадров\n",
        "FRAMES = 500             # Количество итоговых фреймов\n",
        "rotation_speed = 0.1     # Скорость вращения камеры\n",
        "rotation = 0             # Стартавая позиция камеры"
      ]
    },
    {
      "cell_type": "code",
      "source": [
        "positions, points = create_cil_cloth(15, 8, MaterialPointVerletWithSpring)\n",
        "points_graph = init_plot(positions)\n",
        "ani = animation.FuncAnimation(\n",
        "    fig, update, FRAMES, fargs=([points],\n",
        "                                [positions],\n",
        "                                [points_graph],\n",
        "                                ax, get_gravity_and_wind),\n",
        "                                interval=int(DT * SKIPS * 1000),\n",
        "                                blit=False)\n",
        "\n",
        "\"\"\"Сохраним анимацию\"\"\"\n",
        "\n",
        "writer = animation.PillowWriter(fps=30, bitrate=1800)\n",
        "ani.save(f'Clothes_in_cilinder_with_wind.gif', writer=writer)"
      ],
      "metadata": {
        "id": "cHTAuIHTE4DO"
      },
      "execution_count": null,
      "outputs": []
    },
    {
      "cell_type": "markdown",
      "source": [
        "![](https://i.imgur.com/8Tle7ja.gif)"
      ],
      "metadata": {
        "id": "Ru-vaudMrPwL"
      }
    },
    {
      "cell_type": "markdown",
      "source": [
        "Красиво, доволен, иду отдыхать\n",
        "\n",
        "[Ссылки на срендеренные гифы](https://drive.google.com/drive/folders/14h7AI7rOHuNCUPFm20T0-gsi-_ulbUu9?usp=sharing)\n"
      ],
      "metadata": {
        "id": "B4ab8WWMrV1y"
      }
    }
  ],
  "metadata": {
    "colab": {
      "provenance": []
    },
    "kernelspec": {
      "display_name": "Python 3",
      "name": "python3"
    },
    "language_info": {
      "name": "python"
    }
  },
  "nbformat": 4,
  "nbformat_minor": 0
}